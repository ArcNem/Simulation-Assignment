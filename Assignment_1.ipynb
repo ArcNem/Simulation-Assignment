{
  "nbformat": 4,
  "nbformat_minor": 0,
  "metadata": {
    "colab": {
      "name": "Assignment-1.ipynb",
      "provenance": []
    },
    "kernelspec": {
      "name": "python3",
      "display_name": "Python 3"
    }
  },
  "cells": [
    {
      "cell_type": "code",
      "metadata": {
        "id": "08pfFn6NFD-H",
        "colab_type": "code",
        "outputId": "43254b56-bcc0-4a2c-c037-8fd1b4085e86",
        "colab": {
          "base_uri": "https://localhost:8080/",
          "height": 353
        }
      },
      "source": [
        "import math\n",
        "\n",
        "fighter_init = (0, 50)\n",
        "fighter_speed = 20\n",
        "\n",
        "bomber_coordinates = [(80, 0), (90, -2), (99, -5), (108, -9), (116, -15),\n",
        "                       (125, -18), (141, -29), (151, -28), (160, -25),\n",
        "                       (169, -21), (179, -20), (181, -17)]\n",
        "\n",
        "def eucledian_distance(c1, c2):\n",
        "    return(math.sqrt((c2[1] - c1[1])**2 + (c2[0] - c1[0])**2))\n",
        "\n",
        "\n",
        "def get_direction(c1, c2):\n",
        "    try:\n",
        "        slope = (c2[1] - c1[1]) / float(c2[0] - c1[0])\n",
        "        slope = math.atan(slope)\n",
        "    except ZeroDivisionError:   # theta = 90\n",
        "        slope = math.atan(math.tan(math.pi / 2))\n",
        "    return(slope)\n",
        "\n",
        "\n",
        "def simulation():\n",
        "    fighter_coordinate = fighter_init  # coordindates of the fighter plane\n",
        "    for i, c in enumerate(bomber_coordinates):\n",
        "        if i >= len(bomber_coordinates) - 1:\n",
        "            print(\"The fighter misses the target\")\n",
        "            return(False)\n",
        "\n",
        "        direction = get_direction(fighter_coordinate, c)\n",
        "        fighter_x = fighter_coordinate[0] + (fighter_speed * 1) * math.cos(direction)\n",
        "        fighter_y = fighter_coordinate[1] + (fighter_speed * 1) * math.sin(direction)\n",
        "        fighter_coordinate = (fighter_x, fighter_y)\n",
        "\n",
        "        print(\"At t=%d min: \"%(i+1))\n",
        "        print(\"Distance between fighter and bomber: %.2f km \"%eucledian_distance(fighter_coordinate, bomber_coordinates[i + 1]))\n",
        "\n",
        "        # Check if the bomb hits the target\n",
        "        if eucledian_distance(fighter_coordinate,\n",
        "                              bomber_coordinates[i + 1]) < 10:\n",
        "            print(\"\\nFighter destroys the bomber at t=%d min.\"% (i+1))\n",
        "            return(True)\n",
        "    print(\"The fighter misses the target\")\n",
        "    return(False)\n",
        "\n",
        "\n",
        "if __name__ == '__main__':\n",
        "    simulation()"
      ],
      "execution_count": 0,
      "outputs": [
        {
          "output_type": "stream",
          "text": [
            "At t=1 min: \n",
            "Distance between fighter and bomber: 83.96 km \n",
            "At t=2 min: \n",
            "Distance between fighter and bomber: 73.29 km \n",
            "At t=3 min: \n",
            "Distance between fighter and bomber: 63.12 km \n",
            "At t=4 min: \n",
            "Distance between fighter and bomber: 53.01 km \n",
            "At t=5 min: \n",
            "Distance between fighter and bomber: 42.36 km \n",
            "At t=6 min: \n",
            "Distance between fighter and bomber: 41.69 km \n",
            "At t=7 min: \n",
            "Distance between fighter and bomber: 30.39 km \n",
            "At t=8 min: \n",
            "Distance between fighter and bomber: 18.82 km \n",
            "At t=9 min: \n",
            "Distance between fighter and bomber: 8.79 km \n",
            "\n",
            "Fighter destroys the bomber at t=9 min.\n"
          ],
          "name": "stdout"
        }
      ]
    }
  ]
}